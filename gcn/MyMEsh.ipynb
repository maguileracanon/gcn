{
 "cells": [
  {
   "cell_type": "code",
   "execution_count": 1,
   "metadata": {},
   "outputs": [],
   "source": [
    "from __future__ import division\n",
    "from __future__ import print_function\n",
    "\n",
    "import time\n",
    "import tensorflow as tf\n",
    "import pandas as pd\n",
    "import numpy as np\n",
    "import os\n",
    "import random\n",
    "from scipy import sparse\n",
    "\n",
    "from gcn.utils import *\n",
    "\n",
    "\n",
    "\n",
    "# Set random seed\n",
    "seed = 123\n",
    "np.random.seed(seed)\n",
    "tf.set_random_seed(seed)\n",
    "\n",
    "# Settings\n",
    "flags = tf.app.flags\n",
    "FLAGS = flags.FLAGS\n",
    "flags.DEFINE_string('f', '', 'kernel')\n",
    "flags.DEFINE_float('learning_rate', 0.004, 'Initial learning rate.')\n",
    "\n",
    "flags.DEFINE_integer('hidden1', 40, 'Number of units in hidden layer 1.')\n",
    "flags.DEFINE_integer('hidden2', 100, 'Number of units in hidden layer 1.')\n",
    "flags.DEFINE_integer('hidden3', 100, 'Number of units in hidden layer 1.')\n",
    "\n",
    "flags.DEFINE_integer('hidden4', 50, 'Number of units in hidden layer 1.')\n",
    "\n",
    "\n",
    "flags.DEFINE_integer('hidden5', 30, 'Number of units in hidden layer 1.')\n",
    "flags.DEFINE_integer('hidden6', 30, 'Number of units in hidden layer 1.')\n",
    "flags.DEFINE_integer('hidden7', 30, 'Number of units in hidden layer 1.')\n",
    "\n",
    "\n",
    "\n",
    "flags.DEFINE_float('weight_decay', 5e-4, 'Weight for L2 loss on embedding matrix.')\n",
    "flags.DEFINE_integer('early_stopping', 10, 'Tolerance for early stopping (# of epochs).')\n",
    "\n"
   ]
  },
  {
   "cell_type": "code",
   "execution_count": 2,
   "metadata": {},
   "outputs": [
    {
     "data": {
      "text/plain": [
       "int"
      ]
     },
     "execution_count": 2,
     "metadata": {},
     "output_type": "execute_result"
    }
   ],
   "source": [
    "type(FLAGS.hidden6)"
   ]
  },
  {
   "cell_type": "code",
   "execution_count": 3,
   "metadata": {},
   "outputs": [],
   "source": [
    "# Get adjacency matrix\n",
    "# Get degree matrix\n",
    "def edges_tuples(filepath,remove_permutations=True):\n",
    "    neigbors=pd.read_csv(filepath,header=0)\n",
    "    neigbors=neigbors.sort_index()\n",
    "    neigbors=neigbors.values\n",
    "    neigborsTouple=[tuple(l) for l in neigbors]\n",
    "    del neigbors\n",
    "    if remove_permutations:\n",
    "        neigborsTouple_no_permu=set(tuple(sorted(l)) for l in neigborsTouple)\n",
    "        if len(neigborsTouple_no_permu)==len(neigborsTouple)/2:\n",
    "            print(\"Single direction edges were created\")\n",
    "        else:\n",
    "            print(\"After removing permutations, dimentions dont match\")\n",
    "        del neigborsTouple\n",
    "        neigborsTouple_no_permu=sorted(neigborsTouple_no_permu)\n",
    "        return neigborsTouple_no_permu\n",
    "    else:\n",
    "        print(\"Double direction edges were created\")\n",
    "        return neigborsTouple\n",
    "    \n",
    "\n",
    "# This base graph remains the same\n",
    "def base_node_info(frame0File,neighbors_tuples):\n",
    "    senders_arr=[]\n",
    "    receivers_arr=[]\n",
    "    el_pos=pd.read_csv(frame0File,header=0,usecols=[\" Element Label\",\"X\",\"Y\",\"Z\"],index_col=\" Element Label\")\n",
    "    el_pos=el_pos.values\n",
    "    el_pos=el_pos*1000\n",
    "    #el_pos=normalizePos(el_pos,1,-1)\n",
    "    \n",
    "    for edge in neighbors_tuples:\n",
    "        sender=edge[0]-1\n",
    "        receiver=edge[1]-1\n",
    "        senders_arr.append(sender)\n",
    "        receivers_arr.append(receiver)\n",
    "\n",
    "\n",
    "    return el_pos\n",
    "\n",
    "\n",
    "\n",
    "def change_training_dir(tr_dirs,send_rec_arr):\n",
    "       \n",
    "    path=tr_dirs\n",
    "    \n",
    "    in_tr_path=os.listdir(path)\n",
    "    stress_path=[file for file in in_tr_path if file[-10:]=='stress.csv']\n",
    "    stress_npz_path=[file for file in in_tr_path if file[-4:]=='.npz']\n",
    "    global_path=[file for file in in_tr_path if file[:5]=='RNode' ]\n",
    "    nodes_pos=base_node_info(path+stress_path[0],send_rec_arr)\n",
    "        # Element features\n",
    "    \n",
    "    stress_arr= np.load(path+stress_npz_path[0])\n",
    "    m_vm_data=stress_arr[\"peeq\"]\n",
    "    #m_vm_data=np.cbrt(m_vm_data)\n",
    "    m_status_data= stress_arr[\"status\"]\n",
    "        # global features file \n",
    "    m_tool_info=pd.read_fwf(path+global_path[0],header=1,skiprows=1)\n",
    "    m_tool_info=m_tool_info.values\n",
    "    header_pos=0\n",
    "    while all(np.isnan(m_tool_info[header_pos,...])):\n",
    "        header_pos+=1\n",
    "\n",
    "    m_tool_info=m_tool_info[...,1:]\n",
    "    m_tool_info=m_tool_info[header_pos:header_pos+np.shape(m_vm_data)[1],...] # replace this by the lenght of stresses\n",
    "    column_index=0\n",
    "    while (column_index < np.shape(m_tool_info)[1]):\n",
    "        if all(np.isnan(m_tool_info[...,column_index])):\n",
    "            m_tool_info=np.delete(m_tool_info, np.s_[column_index], 1)\n",
    "        else:\n",
    "            column_index+=1\n",
    "    m_tool_cf=m_tool_info[...,:3]/200\n",
    "    \n",
    "    tool_pos=m_tool_info[...,5:]*1000\n",
    "    \n",
    "    m_tool_info=np.append(m_tool_cf,tool_pos,axis=1)\n",
    "\n",
    "    return m_tool_info,m_vm_data,m_status_data,nodes_pos\n",
    "\n",
    "def CreateFeaturesFrame(tool_positions,stresses,n_positions,frame_to_predict):    \n",
    "    vs_in= stresses[...,frame_to_predict-1]\n",
    "    delta_vs_presente= (-stresses[...,frame_to_predict]+stresses[...,frame_to_predict-1])\n",
    "    pos_tool_f=tool_positions[frame_to_predict][-3:]\n",
    "    n_rel_pos=pos_tool_f-n_positions\n",
    "    feat_mx=np.append(n_rel_pos,np.transpose([vs_in]),axis=-1)\n",
    "    delta_vs_presente=np.transpose([delta_vs_presente])\n",
    "    return feat_mx,delta_vs_presente\n",
    "\n"
   ]
  },
  {
   "cell_type": "code",
   "execution_count": 4,
   "metadata": {},
   "outputs": [
    {
     "name": "stdout",
     "output_type": "stream",
     "text": [
      "Double direction edges were created\n"
     ]
    }
   ],
   "source": [
    "send_rec_arr= edges_tuples('/home/mara/Documents/gcn/gcn/tinymesh/tinyEleNeighborhood.csv',remove_permutations=False)\n",
    "#send_rec_arr=np.concatenate( (np.array(send_rec_arr,dtype='int32')), axis=0 ).reshape((len(send_rec_arr), 2))\n",
    "adj = nx.adjacency_matrix(nx.Graph(send_rec_arr))\n",
    "support = [preprocess_adj(adj)]\n",
    "num_supports = 1\n",
    "\n",
    "tool_info,vm_data,status_data,n_positions= change_training_dir('/home/mara/Documents/gcn/gcn/tinymesh/',send_rec_arr)\n",
    "initial_pos=[0,0,0,0, -1.13909,  7.67766e-001]\n",
    "tool_info=initial_pos+tool_info\n"
   ]
  },
  {
   "cell_type": "code",
   "execution_count": 5,
   "metadata": {},
   "outputs": [],
   "source": [
    "f=25\n",
    "features,y_tr=CreateFeaturesFrame(tool_info,vm_data,n_positions,f)\n",
    "#y_tr=np.transpose([y_tr])\n",
    "# Define placeholders\n",
    "placeholders = {\n",
    "    'support': [tf.sparse_placeholder(tf.float32) for _ in range(num_supports)],\n",
    "    'features': tf.placeholder(tf.float32, shape=(None, features.shape[1])),\n",
    "    'labels': tf.placeholder(tf.float32, shape=(None, y_tr.shape[1])),\n",
    "}"
   ]
  },
  {
   "cell_type": "code",
   "execution_count": 6,
   "metadata": {},
   "outputs": [
    {
     "name": "stdout",
     "output_type": "stream",
     "text": [
      "WARNING:tensorflow:From /home/mara/Documents/gcn/gcn/gcnModel.py:244: The name tf.train.AdamOptimizer is deprecated. Please use tf.compat.v1.train.AdamOptimizer instead.\n",
      "\n",
      "WARNING:tensorflow:From /home/mara/Documents/gcn/gcn/gcnModel.py:162: The name tf.variable_scope is deprecated. Please use tf.compat.v1.variable_scope instead.\n",
      "\n",
      "WARNING:tensorflow:From /home/mara/anaconda3/envs/gcn/lib/python3.6/site-packages/gcn/inits.py:14: The name tf.random_uniform is deprecated. Please use tf.random.uniform instead.\n",
      "\n",
      "WARNING:tensorflow:From /home/mara/Documents/gcn/gcn/gcnModel.py:82: The name tf.summary.histogram is deprecated. Please use tf.compat.v1.summary.histogram instead.\n",
      "\n",
      "WARNING:tensorflow:From /home/mara/Documents/gcn/gcn/gcnModel.py:33: The name tf.sparse_tensor_dense_matmul is deprecated. Please use tf.sparse.sparse_dense_matmul instead.\n",
      "\n",
      "WARNING:tensorflow:From /home/mara/Documents/gcn/gcn/gcnModel.py:173: The name tf.get_collection is deprecated. Please use tf.compat.v1.get_collection instead.\n",
      "\n",
      "WARNING:tensorflow:From /home/mara/Documents/gcn/gcn/gcnModel.py:173: The name tf.GraphKeys is deprecated. Please use tf.compat.v1.GraphKeys instead.\n",
      "\n",
      "WARNING:tensorflow:From /home/mara/Documents/gcn/gcn/gcnModel.py:250: The name tf.losses.mean_squared_error is deprecated. Please use tf.compat.v1.losses.mean_squared_error instead.\n",
      "\n",
      "WARNING:tensorflow:From /home/mara/anaconda3/envs/gcn/lib/python3.6/site-packages/tensorflow_core/python/ops/losses/losses_impl.py:121: where (from tensorflow.python.ops.array_ops) is deprecated and will be removed in a future version.\n",
      "Instructions for updating:\n",
      "Use tf.where in 2.0, which has the same broadcast rule as np.where\n"
     ]
    }
   ],
   "source": [
    "import gcnModel as gcnmodels\n",
    "model=gcnmodels.GCN(placeholders, input_dim=np.shape(features)[1], logging=True)"
   ]
  },
  {
   "cell_type": "code",
   "execution_count": null,
   "metadata": {},
   "outputs": [],
   "source": []
  },
  {
   "cell_type": "code",
   "execution_count": 7,
   "metadata": {},
   "outputs": [],
   "source": [
    "\n",
    "def fill_feed_dict(features, support, labels, placeholders):\n",
    "    \"\"\"Construct feed dictionary.\"\"\"\n",
    "    feed_dict = dict()\n",
    "    feed_dict.update({placeholders['labels']: labels})\n",
    "    feed_dict.update({placeholders['features']: features})\n",
    "    feed_dict.update({placeholders['support'][i]: support[i] for i in range(len(support))})\n",
    "    return feed_dict\n",
    "\n",
    "sess = tf.Session()\n",
    "\n",
    "\n",
    "# Define model evaluation function FOR VALIDATION\n",
    "def evaluate(features, support, labels,placeholders):\n",
    "    t_test = time.time()\n",
    "    feed_dict_val = fill_feed_dict(features, support, labels,placeholders)\n",
    "    outs_val , m_out= sess.run([model.loss], model.outputs ,feed_dict=feed_dict_val)\n",
    "    return outs_val, (time.time() - t_test)\n",
    "\n",
    "\n",
    "# Init variables\n",
    "sess.run(tf.global_variables_initializer())\n",
    "\n",
    "cost_val = []"
   ]
  },
  {
   "cell_type": "code",
   "execution_count": 10,
   "metadata": {},
   "outputs": [
    {
     "name": "stdout",
     "output_type": "stream",
     "text": [
      "Epoch: 0001 train_loss= 0.01740 time= 0.04851\n",
      "Epoch: 1001 train_loss= 0.01658 time= 0.04995\n",
      "Epoch: 2001 train_loss= 0.01654 time= 0.05885\n",
      "Epoch: 3001 train_loss= 0.01778 time= 0.05553\n",
      "Epoch: 4001 train_loss= 0.01733 time= 0.05804\n",
      "Epoch: 5001 train_loss= 0.01861 time= 0.05539\n",
      "Epoch: 6001 train_loss= 0.01770 time= 0.05116\n",
      "Epoch: 7001 train_loss= 0.01726 time= 0.05663\n",
      "Epoch: 8001 train_loss= 0.01778 time= 0.05763\n",
      "Epoch: 9001 train_loss= 0.01677 time= 0.05353\n",
      "Epoch: 10001 train_loss= 0.02030 time= 0.05427\n",
      "Epoch: 11001 train_loss= 0.01666 time= 0.04999\n",
      "Epoch: 12001 train_loss= 0.02094 time= 0.05405\n",
      "Epoch: 13001 train_loss= 0.02277 time= 0.05601\n",
      "Epoch: 14001 train_loss= 0.01890 time= 0.05227\n",
      "Epoch: 15001 train_loss= 0.01514 time= 0.05530\n",
      "Epoch: 16001 train_loss= 0.01921 time= 0.05702\n"
     ]
    },
    {
     "ename": "KeyboardInterrupt",
     "evalue": "",
     "output_type": "error",
     "traceback": [
      "\u001b[0;31m---------------------------------------------------------------------------\u001b[0m",
      "\u001b[0;31mKeyboardInterrupt\u001b[0m                         Traceback (most recent call last)",
      "\u001b[0;32m<ipython-input-10-dfa12859c4c4>\u001b[0m in \u001b[0;36m<module>\u001b[0;34m\u001b[0m\n\u001b[1;32m     14\u001b[0m         \u001b[0ma_feed_dict\u001b[0m \u001b[0;34m=\u001b[0m \u001b[0mfill_feed_dict\u001b[0m\u001b[0;34m(\u001b[0m\u001b[0mfeatures\u001b[0m\u001b[0;34m,\u001b[0m \u001b[0msupport\u001b[0m\u001b[0;34m,\u001b[0m \u001b[0my_tr\u001b[0m\u001b[0;34m,\u001b[0m \u001b[0mplaceholders\u001b[0m\u001b[0;34m)\u001b[0m\u001b[0;34m\u001b[0m\u001b[0;34m\u001b[0m\u001b[0m\n\u001b[1;32m     15\u001b[0m         \u001b[0;31m# Training step\u001b[0m\u001b[0;34m\u001b[0m\u001b[0;34m\u001b[0m\u001b[0;34m\u001b[0m\u001b[0m\n\u001b[0;32m---> 16\u001b[0;31m         \u001b[0mouts\u001b[0m \u001b[0;34m=\u001b[0m \u001b[0msess\u001b[0m\u001b[0;34m.\u001b[0m\u001b[0mrun\u001b[0m\u001b[0;34m(\u001b[0m\u001b[0;34m[\u001b[0m\u001b[0mmodel\u001b[0m\u001b[0;34m.\u001b[0m\u001b[0mopt_op\u001b[0m\u001b[0;34m,\u001b[0m \u001b[0mmodel\u001b[0m\u001b[0;34m.\u001b[0m\u001b[0mloss\u001b[0m\u001b[0;34m,\u001b[0m \u001b[0mmodel\u001b[0m\u001b[0;34m.\u001b[0m\u001b[0mpredict\u001b[0m\u001b[0;34m(\u001b[0m\u001b[0;34m)\u001b[0m\u001b[0;34m]\u001b[0m\u001b[0;34m,\u001b[0m \u001b[0mfeed_dict\u001b[0m\u001b[0;34m=\u001b[0m\u001b[0ma_feed_dict\u001b[0m\u001b[0;34m)\u001b[0m\u001b[0;34m\u001b[0m\u001b[0;34m\u001b[0m\u001b[0m\n\u001b[0m\u001b[1;32m     17\u001b[0m         \u001b[0mloss_epoch\u001b[0m\u001b[0;34m+=\u001b[0m \u001b[0mouts\u001b[0m\u001b[0;34m[\u001b[0m\u001b[0;36m1\u001b[0m\u001b[0;34m]\u001b[0m\u001b[0;34m\u001b[0m\u001b[0;34m\u001b[0m\u001b[0m\n\u001b[1;32m     18\u001b[0m \u001b[0;34m\u001b[0m\u001b[0m\n",
      "\u001b[0;32m~/anaconda3/envs/gcn/lib/python3.6/site-packages/tensorflow_core/python/client/session.py\u001b[0m in \u001b[0;36mrun\u001b[0;34m(self, fetches, feed_dict, options, run_metadata)\u001b[0m\n\u001b[1;32m    954\u001b[0m     \u001b[0;32mtry\u001b[0m\u001b[0;34m:\u001b[0m\u001b[0;34m\u001b[0m\u001b[0;34m\u001b[0m\u001b[0m\n\u001b[1;32m    955\u001b[0m       result = self._run(None, fetches, feed_dict, options_ptr,\n\u001b[0;32m--> 956\u001b[0;31m                          run_metadata_ptr)\n\u001b[0m\u001b[1;32m    957\u001b[0m       \u001b[0;32mif\u001b[0m \u001b[0mrun_metadata\u001b[0m\u001b[0;34m:\u001b[0m\u001b[0;34m\u001b[0m\u001b[0;34m\u001b[0m\u001b[0m\n\u001b[1;32m    958\u001b[0m         \u001b[0mproto_data\u001b[0m \u001b[0;34m=\u001b[0m \u001b[0mtf_session\u001b[0m\u001b[0;34m.\u001b[0m\u001b[0mTF_GetBuffer\u001b[0m\u001b[0;34m(\u001b[0m\u001b[0mrun_metadata_ptr\u001b[0m\u001b[0;34m)\u001b[0m\u001b[0;34m\u001b[0m\u001b[0;34m\u001b[0m\u001b[0m\n",
      "\u001b[0;32m~/anaconda3/envs/gcn/lib/python3.6/site-packages/tensorflow_core/python/client/session.py\u001b[0m in \u001b[0;36m_run\u001b[0;34m(self, handle, fetches, feed_dict, options, run_metadata)\u001b[0m\n\u001b[1;32m   1178\u001b[0m     \u001b[0;32mif\u001b[0m \u001b[0mfinal_fetches\u001b[0m \u001b[0;32mor\u001b[0m \u001b[0mfinal_targets\u001b[0m \u001b[0;32mor\u001b[0m \u001b[0;34m(\u001b[0m\u001b[0mhandle\u001b[0m \u001b[0;32mand\u001b[0m \u001b[0mfeed_dict_tensor\u001b[0m\u001b[0;34m)\u001b[0m\u001b[0;34m:\u001b[0m\u001b[0;34m\u001b[0m\u001b[0;34m\u001b[0m\u001b[0m\n\u001b[1;32m   1179\u001b[0m       results = self._do_run(handle, final_targets, final_fetches,\n\u001b[0;32m-> 1180\u001b[0;31m                              feed_dict_tensor, options, run_metadata)\n\u001b[0m\u001b[1;32m   1181\u001b[0m     \u001b[0;32melse\u001b[0m\u001b[0;34m:\u001b[0m\u001b[0;34m\u001b[0m\u001b[0;34m\u001b[0m\u001b[0m\n\u001b[1;32m   1182\u001b[0m       \u001b[0mresults\u001b[0m \u001b[0;34m=\u001b[0m \u001b[0;34m[\u001b[0m\u001b[0;34m]\u001b[0m\u001b[0;34m\u001b[0m\u001b[0;34m\u001b[0m\u001b[0m\n",
      "\u001b[0;32m~/anaconda3/envs/gcn/lib/python3.6/site-packages/tensorflow_core/python/client/session.py\u001b[0m in \u001b[0;36m_do_run\u001b[0;34m(self, handle, target_list, fetch_list, feed_dict, options, run_metadata)\u001b[0m\n\u001b[1;32m   1357\u001b[0m     \u001b[0;32mif\u001b[0m \u001b[0mhandle\u001b[0m \u001b[0;32mis\u001b[0m \u001b[0;32mNone\u001b[0m\u001b[0;34m:\u001b[0m\u001b[0;34m\u001b[0m\u001b[0;34m\u001b[0m\u001b[0m\n\u001b[1;32m   1358\u001b[0m       return self._do_call(_run_fn, feeds, fetches, targets, options,\n\u001b[0;32m-> 1359\u001b[0;31m                            run_metadata)\n\u001b[0m\u001b[1;32m   1360\u001b[0m     \u001b[0;32melse\u001b[0m\u001b[0;34m:\u001b[0m\u001b[0;34m\u001b[0m\u001b[0;34m\u001b[0m\u001b[0m\n\u001b[1;32m   1361\u001b[0m       \u001b[0;32mreturn\u001b[0m \u001b[0mself\u001b[0m\u001b[0;34m.\u001b[0m\u001b[0m_do_call\u001b[0m\u001b[0;34m(\u001b[0m\u001b[0m_prun_fn\u001b[0m\u001b[0;34m,\u001b[0m \u001b[0mhandle\u001b[0m\u001b[0;34m,\u001b[0m \u001b[0mfeeds\u001b[0m\u001b[0;34m,\u001b[0m \u001b[0mfetches\u001b[0m\u001b[0;34m)\u001b[0m\u001b[0;34m\u001b[0m\u001b[0;34m\u001b[0m\u001b[0m\n",
      "\u001b[0;32m~/anaconda3/envs/gcn/lib/python3.6/site-packages/tensorflow_core/python/client/session.py\u001b[0m in \u001b[0;36m_do_call\u001b[0;34m(self, fn, *args)\u001b[0m\n\u001b[1;32m   1363\u001b[0m   \u001b[0;32mdef\u001b[0m \u001b[0m_do_call\u001b[0m\u001b[0;34m(\u001b[0m\u001b[0mself\u001b[0m\u001b[0;34m,\u001b[0m \u001b[0mfn\u001b[0m\u001b[0;34m,\u001b[0m \u001b[0;34m*\u001b[0m\u001b[0margs\u001b[0m\u001b[0;34m)\u001b[0m\u001b[0;34m:\u001b[0m\u001b[0;34m\u001b[0m\u001b[0;34m\u001b[0m\u001b[0m\n\u001b[1;32m   1364\u001b[0m     \u001b[0;32mtry\u001b[0m\u001b[0;34m:\u001b[0m\u001b[0;34m\u001b[0m\u001b[0;34m\u001b[0m\u001b[0m\n\u001b[0;32m-> 1365\u001b[0;31m       \u001b[0;32mreturn\u001b[0m \u001b[0mfn\u001b[0m\u001b[0;34m(\u001b[0m\u001b[0;34m*\u001b[0m\u001b[0margs\u001b[0m\u001b[0;34m)\u001b[0m\u001b[0;34m\u001b[0m\u001b[0;34m\u001b[0m\u001b[0m\n\u001b[0m\u001b[1;32m   1366\u001b[0m     \u001b[0;32mexcept\u001b[0m \u001b[0merrors\u001b[0m\u001b[0;34m.\u001b[0m\u001b[0mOpError\u001b[0m \u001b[0;32mas\u001b[0m \u001b[0me\u001b[0m\u001b[0;34m:\u001b[0m\u001b[0;34m\u001b[0m\u001b[0;34m\u001b[0m\u001b[0m\n\u001b[1;32m   1367\u001b[0m       \u001b[0mmessage\u001b[0m \u001b[0;34m=\u001b[0m \u001b[0mcompat\u001b[0m\u001b[0;34m.\u001b[0m\u001b[0mas_text\u001b[0m\u001b[0;34m(\u001b[0m\u001b[0me\u001b[0m\u001b[0;34m.\u001b[0m\u001b[0mmessage\u001b[0m\u001b[0;34m)\u001b[0m\u001b[0;34m\u001b[0m\u001b[0;34m\u001b[0m\u001b[0m\n",
      "\u001b[0;32m~/anaconda3/envs/gcn/lib/python3.6/site-packages/tensorflow_core/python/client/session.py\u001b[0m in \u001b[0;36m_run_fn\u001b[0;34m(feed_dict, fetch_list, target_list, options, run_metadata)\u001b[0m\n\u001b[1;32m   1348\u001b[0m       \u001b[0mself\u001b[0m\u001b[0;34m.\u001b[0m\u001b[0m_extend_graph\u001b[0m\u001b[0;34m(\u001b[0m\u001b[0;34m)\u001b[0m\u001b[0;34m\u001b[0m\u001b[0;34m\u001b[0m\u001b[0m\n\u001b[1;32m   1349\u001b[0m       return self._call_tf_sessionrun(options, feed_dict, fetch_list,\n\u001b[0;32m-> 1350\u001b[0;31m                                       target_list, run_metadata)\n\u001b[0m\u001b[1;32m   1351\u001b[0m \u001b[0;34m\u001b[0m\u001b[0m\n\u001b[1;32m   1352\u001b[0m     \u001b[0;32mdef\u001b[0m \u001b[0m_prun_fn\u001b[0m\u001b[0;34m(\u001b[0m\u001b[0mhandle\u001b[0m\u001b[0;34m,\u001b[0m \u001b[0mfeed_dict\u001b[0m\u001b[0;34m,\u001b[0m \u001b[0mfetch_list\u001b[0m\u001b[0;34m)\u001b[0m\u001b[0;34m:\u001b[0m\u001b[0;34m\u001b[0m\u001b[0;34m\u001b[0m\u001b[0m\n",
      "\u001b[0;32m~/anaconda3/envs/gcn/lib/python3.6/site-packages/tensorflow_core/python/client/session.py\u001b[0m in \u001b[0;36m_call_tf_sessionrun\u001b[0;34m(self, options, feed_dict, fetch_list, target_list, run_metadata)\u001b[0m\n\u001b[1;32m   1441\u001b[0m     return tf_session.TF_SessionRun_wrapper(self._session, options, feed_dict,\n\u001b[1;32m   1442\u001b[0m                                             \u001b[0mfetch_list\u001b[0m\u001b[0;34m,\u001b[0m \u001b[0mtarget_list\u001b[0m\u001b[0;34m,\u001b[0m\u001b[0;34m\u001b[0m\u001b[0;34m\u001b[0m\u001b[0m\n\u001b[0;32m-> 1443\u001b[0;31m                                             run_metadata)\n\u001b[0m\u001b[1;32m   1444\u001b[0m \u001b[0;34m\u001b[0m\u001b[0m\n\u001b[1;32m   1445\u001b[0m   \u001b[0;32mdef\u001b[0m \u001b[0m_call_tf_sessionprun\u001b[0m\u001b[0;34m(\u001b[0m\u001b[0mself\u001b[0m\u001b[0;34m,\u001b[0m \u001b[0mhandle\u001b[0m\u001b[0;34m,\u001b[0m \u001b[0mfeed_dict\u001b[0m\u001b[0;34m,\u001b[0m \u001b[0mfetch_list\u001b[0m\u001b[0;34m)\u001b[0m\u001b[0;34m:\u001b[0m\u001b[0;34m\u001b[0m\u001b[0;34m\u001b[0m\u001b[0m\n",
      "\u001b[0;31mKeyboardInterrupt\u001b[0m: "
     ]
    }
   ],
   "source": [
    "# Initialize session\n",
    "\n",
    "\n",
    "frames_arr=[50,51,52,53,54]\n",
    "\n",
    "# Train model\n",
    "for epoch in range(200000):\n",
    "    random.shuffle(frames_arr)\n",
    "    loss_epoch=0\n",
    "    for frame_to_train in frames_arr:\n",
    "        features,y_tr=CreateFeaturesFrame(tool_info,vm_data,n_positions,frame_to_train)\n",
    "        t = time.time()\n",
    "        # Construct feed dictionary\n",
    "        a_feed_dict = fill_feed_dict(features, support, y_tr, placeholders)\n",
    "        # Training step\n",
    "        outs = sess.run([model.opt_op, model.loss, model.predict()], feed_dict=a_feed_dict)\n",
    "        loss_epoch+= outs[1]\n",
    "\n",
    "        # Print results\n",
    "    if epoch%1000==0:\n",
    "        loss_epoch=loss_epoch/len(frames_arr)\n",
    "        print(\"Epoch:\", '%04d' % (epoch + 1), \"train_loss=\", \"{:.5f}\".format(loss_epoch), \"time=\", \"{:.5f}\".format(time.time() - t))\n",
    "\n",
    "\n",
    "print(\"Optimization Finished!\")"
   ]
  },
  {
   "cell_type": "code",
   "execution_count": 9,
   "metadata": {},
   "outputs": [
    {
     "data": {
      "image/png": "[encoded data removed]",
      "text/plain": [
       "<Figure size 432x288 with 1 Axes>"
      ]
     },
     "metadata": {
      "needs_background": "light"
     },
     "output_type": "display_data"
    }
   ],
   "source": [
    "import matplotlib.pyplot as plt\n",
    "%matplotlib inline  \n",
    "\n",
    "delta=a_feed_dict[placeholders['labels']][...,-1]-outs[-1][...,-1]\n",
    "\n",
    "ax1 = plt.subplot(211)\n",
    "deltas_peed=delta[...,0]\n",
    "\n",
    "plt.ylim(-1,1)\n",
    "axs1=plt.plot(range(np.shape(delta)[0]), delta,'.',alpha=0.3)\n"
   ]
  },
  {
   "cell_type": "code",
   "execution_count": 11,
   "metadata": {},
   "outputs": [
    {
     "data": {
      "image/png": "[encoded data removed]",
      "text/plain": [
       "<Figure size 432x288 with 1 Axes>"
      ]
     },
     "metadata": {
      "needs_background": "light"
     },
     "output_type": "display_data"
    }
   ],
   "source": [
    "\n",
    "import matplotlib.pyplot as plt\n",
    "%matplotlib inline  \n",
    "\n",
    "delta=a_feed_dict[placeholders['labels']][...,-1]-outs[-1][...,-1]\n",
    "\n",
    "ax1 = plt.subplot(211)\n",
    "deltas_peed=delta[...,0]\n",
    "\n",
    "plt.ylim(-1,1)\n",
    "axs1=plt.plot(range(np.shape(delta)[0]), delta,'.',alpha=0.3)"
   ]
  },
  {
   "cell_type": "code",
   "execution_count": null,
   "metadata": {},
   "outputs": [],
   "source": []
  }
 ],
 "metadata": {
  "kernelspec": {
   "display_name": "gcn",
   "language": "python",
   "name": "gcn"
  },
  "language_info": {
   "codemirror_mode": {
    "name": "ipython",
    "version": 3
   },
   "file_extension": ".py",
   "mimetype": "text/x-python",
   "name": "python",
   "nbconvert_exporter": "python",
   "pygments_lexer": "ipython3",
   "version": "3.6.10"
  }
 },
 "nbformat": 4,
 "nbformat_minor": 4
}
