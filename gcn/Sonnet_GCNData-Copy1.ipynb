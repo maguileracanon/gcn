{
 "cells": [
  {
   "cell_type": "code",
   "execution_count": 3,
   "metadata": {},
   "outputs": [
    {
     "name": "stdout",
     "output_type": "stream",
     "text": [
      "Double direction edges were created\n"
     ]
    }
   ],
   "source": [
    "from __future__ import division\n",
    "from __future__ import print_function\n",
    "\n",
    "import time\n",
    "import tensorflow as tf\n",
    "import pandas as pd\n",
    "import numpy as np\n",
    "import os\n",
    "import random\n",
    "import scipy.sparse as sp\n",
    "import networkx as nx\n",
    "# Set random seed\n",
    "seed = 123\n",
    "np.random.seed(seed)\n",
    "tf.random.set_seed(seed)\n",
    "\n",
    "'''\n",
    "Fron gnc.utils\n",
    "'''\n",
    "\n",
    "def normalize_adj(adj):\n",
    "    \"\"\"Symmetrically normalize adjacency matrix.\"\"\"\n",
    "    adj = sp.coo_matrix(adj)\n",
    "    rowsum = np.array(adj.sum(1))\n",
    "    d_inv_sqrt = np.power(rowsum, -0.5).flatten()\n",
    "    d_inv_sqrt[np.isinf(d_inv_sqrt)] = 0.\n",
    "    d_mat_inv_sqrt = sp.diags(d_inv_sqrt)\n",
    "    return adj.dot(d_mat_inv_sqrt).transpose().dot(d_mat_inv_sqrt).tocoo()\n",
    "\n",
    "\n",
    "def preprocess_adj(adj):\n",
    "    \"\"\"Preprocessing of adjacency matrix for simple GCN model and conversion to tuple representation.\"\"\"\n",
    "    adj_normalized = normalize_adj(adj + sp.eye(adj.shape[0]))\n",
    "    return sparse_to_tuple(adj_normalized)\n",
    "\n",
    "def sparse_to_tuple(sparse_mx):\n",
    "    \"\"\"Convert sparse matrix to tuple representation.\"\"\"\n",
    "    def to_tuple(mx):\n",
    "        if not sp.isspmatrix_coo(mx):\n",
    "            mx = mx.tocoo()\n",
    "        coords = np.vstack((mx.row, mx.col)).transpose()\n",
    "        values = mx.data\n",
    "        shape = mx.shape\n",
    "        return coords, values, shape\n",
    "\n",
    "    if isinstance(sparse_mx, list):\n",
    "        for i in range(len(sparse_mx)):\n",
    "            sparse_mx[i] = to_tuple(sparse_mx[i])\n",
    "    else:\n",
    "        sparse_mx = to_tuple(sparse_mx)\n",
    "\n",
    "    return sparse_mx\n",
    "\n",
    "####################################################################\n",
    "#################INIZIALISATION ###############\n",
    "\n",
    "####################################################################\n",
    "\n",
    "\n",
    "# Get adjacency matrix\n",
    "# Get degree matrix\n",
    "def edges_tuples(filepath,remove_permutations=True):\n",
    "    neigbors=pd.read_csv(filepath,header=0)\n",
    "    neigbors=neigbors.sort_index()\n",
    "    neigbors=neigbors.values\n",
    "    neigborsTouple=[tuple(l) for l in neigbors]\n",
    "    del neigbors\n",
    "    if remove_permutations:\n",
    "        neigborsTouple_no_permu=set(tuple(sorted(l)) for l in neigborsTouple)\n",
    "        if len(neigborsTouple_no_permu)==len(neigborsTouple)/2:\n",
    "            print(\"Single direction edges were created\")\n",
    "        else:\n",
    "            print(\"After removing permutations, dimentions dont match\")\n",
    "        del neigborsTouple\n",
    "        neigborsTouple_no_permu=sorted(neigborsTouple_no_permu)\n",
    "        return neigborsTouple_no_permu\n",
    "    else:\n",
    "        print(\"Double direction edges were created\")\n",
    "        return neigborsTouple\n",
    "    \n",
    "\n",
    "# This base graph remains the same\n",
    "def base_node_info(frame0File,neighbors_tuples):\n",
    "    senders_arr=[]\n",
    "    receivers_arr=[]\n",
    "    el_pos=pd.read_csv(frame0File,header=0,usecols=[\" Element Label\",\"X\",\"Y\",\"Z\"],index_col=\" Element Label\")\n",
    "    el_pos=el_pos.values\n",
    "    el_pos=el_pos*1000\n",
    "    #el_pos=normalizePos(el_pos,1,-1)\n",
    "    \n",
    "    for edge in neighbors_tuples:\n",
    "        sender=edge[0]-1\n",
    "        receiver=edge[1]-1\n",
    "        senders_arr.append(sender)\n",
    "        receivers_arr.append(receiver)\n",
    "\n",
    "\n",
    "    return el_pos\n",
    "\n",
    "\n",
    "\n",
    "def change_training_dir(tr_dirs,send_rec_arr):\n",
    "       \n",
    "    path=tr_dirs\n",
    "    \n",
    "    in_tr_path=os.listdir(path)\n",
    "    stress_path=[file for file in in_tr_path if file[-10:]=='stress.csv']\n",
    "    stress_npz_path=[file for file in in_tr_path if file[-4:]=='.npz']\n",
    "    global_path=[file for file in in_tr_path if file[:5]=='RNode' ]\n",
    "    nodes_pos=base_node_info(path+stress_path[0],send_rec_arr)\n",
    "        # Element features\n",
    "    \n",
    "    stress_arr= np.load(path+stress_npz_path[0])\n",
    "    m_vm_data=stress_arr[\"peeq\"]\n",
    "    #m_vm_data=np.cbrt(m_vm_data)\n",
    "    m_status_data= stress_arr[\"status\"]\n",
    "        # global features file \n",
    "    m_tool_info=pd.read_fwf(path+global_path[0],header=1,skiprows=1)\n",
    "    m_tool_info=m_tool_info.values\n",
    "    header_pos=0\n",
    "    while all(np.isnan(m_tool_info[header_pos,...])):\n",
    "        header_pos+=1\n",
    "\n",
    "    m_tool_info=m_tool_info[...,1:]\n",
    "    m_tool_info=m_tool_info[header_pos:header_pos+np.shape(m_vm_data)[1],...] # replace this by the lenght of stresses\n",
    "    column_index=0\n",
    "    while (column_index < np.shape(m_tool_info)[1]):\n",
    "        if all(np.isnan(m_tool_info[...,column_index])):\n",
    "            m_tool_info=np.delete(m_tool_info, np.s_[column_index], 1)\n",
    "        else:\n",
    "            column_index+=1\n",
    "    m_tool_cf=m_tool_info[...,:3]/200\n",
    "    \n",
    "    tool_pos=m_tool_info[...,5:]*1000\n",
    "    \n",
    "    m_tool_info=np.append(m_tool_cf,tool_pos,axis=1)\n",
    "\n",
    "    return m_tool_info,m_vm_data,m_status_data,nodes_pos\n",
    "\n",
    "def CreateFeaturesFrame(init_adj,tool_positions,stresses,n_positions,frame_to_predict):    \n",
    "    vs_in= stresses[...,frame_to_predict-1]\n",
    "    delta_vs_presente= (-stresses[...,frame_to_predict]+stresses[...,frame_to_predict-1])\n",
    "    pos_tool_f=tool_positions[frame_to_predict][-3:]\n",
    "    force_tool=tool_positions[frame_to_predict][:3]\n",
    "    n_rel_pos=pos_tool_f-n_positions\n",
    "    tool_abs_broadcast=force_tool+(0*n_positions)\n",
    "    unit_vector_1 =np.divide(n_rel_pos , np.linalg.norm(n_rel_pos,axis=1).reshape((-1, 1)))\n",
    "    unit_vector_2 = np.divide(tool_abs_broadcast , np.linalg.norm(tool_abs_broadcast,axis=1).reshape((-1, 1)))\n",
    "    dot_product = np.linalg.norm(np.cross(unit_vector_1, unit_vector_2),axis=1)\n",
    "    dot_product = 1 - dot_product/max(dot_product)\n",
    "    feat_mx=np.append(n_rel_pos,np.transpose([dot_product,1-vs_in,vs_in]),axis=-1)\n",
    "    delta_vs_presente=np.transpose([delta_vs_presente])\n",
    "    # Inpu tensor\n",
    "    input_tf=tf.convert_to_tensor(feat_mx,  dtype=tf.float32)\n",
    "    #Target tensor\n",
    "    target_tf=tf.convert_to_tensor(delta_vs_presente, dtype=tf.float32)\n",
    "    \n",
    "    off_nodes=np.argwhere(vs_in<0.2)[...,-1]\n",
    "\n",
    "    dense_adj=init_adj.toarray()\n",
    "    adj_shape=np.shape(dense_adj)\n",
    "    for rmv_n in off_nodes:\n",
    "        dense_adj[rmv_n]=np.zeros(adj_shape[1],dtype=int)\n",
    "        dense_adj[...,rmv_n]=np.zeros(adj_shape[0],dtype=int)\n",
    "    \n",
    "    supp=sp.csr_matrix(dense_adj)\n",
    "    supp=preprocess_adj(supp)\n",
    "    \n",
    "    ### Tensors\n",
    "    #adj as sparse tensor\n",
    "    adj_tf=tf.sparse.SparseTensor(supp[0], supp[1], supp[2])\n",
    "    adj_tf=tf.dtypes.cast(adj_tf,tf.float32) \n",
    "    #adj_tf=tf.sparse.to_dense(tf.sparse.reorder(adj_tf))\n",
    "    #features as sparse tensor\n",
    "    features_tf=tf.convert_to_tensor(input_tf, dtype=tf.float32)\n",
    "    # cast to tensorflow all arr\n",
    "    y_train_tf=tf.convert_to_tensor(target_tf, dtype=tf.float32)\n",
    "        \n",
    "    return adj_tf,features_tf,y_train_tf\n",
    "\n",
    "\n",
    "\n",
    "###############################################################################################################################################################\n",
    "###############################################################################################################################################################\n",
    "send_rec_arr= edges_tuples('/home/mara/Documents/gcn/gcn/tinymesh/tinyEleNeighborhood.csv',remove_permutations=False)\n",
    "#send_rec_arr=np.concatenate( (np.array(send_rec_arr,dtype='int32')), axis=0 ).reshape((len(send_rec_arr), 2))\n",
    "adj = nx.adjacency_matrix(nx.Graph(send_rec_arr))\n",
    "\n",
    "num_supports = 1\n",
    "\n",
    "tool_info,vm_data,status_data,n_positions= change_training_dir('/home/mara/Documents/gcn/gcn/tinymesh/',send_rec_arr)\n",
    "initial_pos=[0,0,0,0, -1.13909,  7.67766e-001]\n",
    "tool_info=initial_pos+tool_info\n",
    "\n",
    "f=25\n",
    "support,t_features,t_yr=CreateFeaturesFrame(adj,tool_info,vm_data,n_positions,f)\n",
    "\n",
    "in_size=np.shape(t_features)[1]\n",
    "encoder=[in_size,in_size]\n",
    "conv=2\n",
    "decoder=[2,1]\n",
    "learning_rate= 1e-2"
   ]
  },
  {
   "cell_type": "code",
   "execution_count": 84,
   "metadata": {},
   "outputs": [
    {
     "data": {
      "text/plain": [
       "6"
      ]
     },
     "execution_count": 84,
     "metadata": {},
     "output_type": "execute_result"
    }
   ],
   "source": [
    "np.shape(t_features)[1]"
   ]
  },
  {
   "cell_type": "code",
   "execution_count": null,
   "metadata": {},
   "outputs": [],
   "source": [
    "import matplotlib.pyplot as plt\n",
    "%matplotlib inline  \n",
    "\n",
    "_=plt.hist(t_features[...,-3],10)"
   ]
  },
  {
   "cell_type": "code",
   "execution_count": 5,
   "metadata": {},
   "outputs": [],
   "source": [
    "import GCNLayer\n",
    "import sonnet as snt\n",
    "learning_rate=0.01\n",
    "conv=3\n",
    "\n",
    "model=GCNLayer.GCN(encoder_arr=encoder,convolution_kernel_1=conv,convolution_kernel_2=np.shape(t_yr)[1])\n",
    "optimizer = tf.keras.optimizers.Adam(learning_rate)\n",
    "\n",
    "\n",
    "def ComputeLoss(labels, preds,inp_tr):\n",
    "    bce = tf.keras.losses.BinaryCrossentropy() \n",
    "    pred_binary=inp_tr[...,-2:]-tf.concat([-preds,preds], 1) \n",
    "    real_binary=inp_tr[...,-2:]-tf.concat([-labels,labels], 1) \n",
    "    \n",
    "    _loss=50*bce(real_binary, pred_binary)\n",
    "    #_loss+= tf.nn.l2_loss(model.trainable_variables[-1])*5e-4\n",
    "    return _loss\n",
    "\n",
    "\n",
    "def update_step(inputs_tr,adj, targets_tr):\n",
    "    with tf.GradientTape() as tape:\n",
    "        output_ops_tr = model(inputs_tr,adj)\n",
    "        # Loss.\n",
    "        loss_tr = ComputeLoss(targets_tr,output_ops_tr,inputs_tr)\n",
    "        \n",
    "\n",
    "    gradients = tape.gradient(loss_tr, model.trainable_variables)\n",
    "    #grads = tf.distribute.get_replica_context().all_reduce('sum', gradients)\n",
    "    optimizer.apply_gradients(zip(gradients, model.trainable_variables))\n",
    "    #optimizer.apply(gradients, model.trainable_variables)\n",
    "    return loss_tr,output_ops_tr"
   ]
  },
  {
   "cell_type": "code",
   "execution_count": 6,
   "metadata": {},
   "outputs": [],
   "source": [
    "input_signature = [tf.TensorSpec.from_tensor(t_features),tf.SparseTensorSpec(shape=support.get_shape(),dtype=tf.dtypes.float32),tf.TensorSpec.from_tensor(t_yr)]\n",
    "compiled_update_step = tf.function(update_step, input_signature=input_signature)"
   ]
  },
  {
   "cell_type": "code",
   "execution_count": 11,
   "metadata": {},
   "outputs": [
    {
     "name": "stdout",
     "output_type": "stream",
     "text": [
      "Epoch: 0001 train_loss= 6.43293\n",
      "Epoch: 0021 train_loss= 6.09899\n",
      "Epoch: 0041 train_loss= 5.69798\n",
      "Epoch: 0061 train_loss= 5.63071\n"
     ]
    },
    {
     "ename": "KeyboardInterrupt",
     "evalue": "",
     "output_type": "error",
     "traceback": [
      "\u001b[0;31m---------------------------------------------------------------------------\u001b[0m",
      "\u001b[0;31mKeyboardInterrupt\u001b[0m                         Traceback (most recent call last)",
      "\u001b[0;32m<ipython-input-11-6a18966279c8>\u001b[0m in \u001b[0;36m<module>\u001b[0;34m\u001b[0m\n\u001b[1;32m      6\u001b[0m     \u001b[0mloss_epoch\u001b[0m\u001b[0;34m=\u001b[0m\u001b[0;36m0\u001b[0m\u001b[0;34m\u001b[0m\u001b[0;34m\u001b[0m\u001b[0m\n\u001b[1;32m      7\u001b[0m     \u001b[0;32mfor\u001b[0m \u001b[0mframe_to_train\u001b[0m \u001b[0;32min\u001b[0m \u001b[0mframes_arr\u001b[0m\u001b[0;34m:\u001b[0m\u001b[0;34m\u001b[0m\u001b[0;34m\u001b[0m\u001b[0m\n\u001b[0;32m----> 8\u001b[0;31m         \u001b[0msupport\u001b[0m\u001b[0;34m,\u001b[0m\u001b[0minputs_tr\u001b[0m\u001b[0;34m,\u001b[0m\u001b[0mtargets_tr\u001b[0m\u001b[0;34m=\u001b[0m\u001b[0mCreateFeaturesFrame\u001b[0m\u001b[0;34m(\u001b[0m\u001b[0madj\u001b[0m\u001b[0;34m,\u001b[0m\u001b[0mtool_info\u001b[0m\u001b[0;34m,\u001b[0m\u001b[0mvm_data\u001b[0m\u001b[0;34m,\u001b[0m\u001b[0mn_positions\u001b[0m\u001b[0;34m,\u001b[0m\u001b[0mframe_to_train\u001b[0m\u001b[0;34m)\u001b[0m\u001b[0;34m\u001b[0m\u001b[0;34m\u001b[0m\u001b[0m\n\u001b[0m\u001b[1;32m      9\u001b[0m         \u001b[0mloss_tr\u001b[0m\u001b[0;34m,\u001b[0m\u001b[0mouts\u001b[0m \u001b[0;34m=\u001b[0m \u001b[0mcompiled_update_step\u001b[0m\u001b[0;34m(\u001b[0m\u001b[0minputs_tr\u001b[0m\u001b[0;34m,\u001b[0m \u001b[0msupport\u001b[0m\u001b[0;34m,\u001b[0m \u001b[0mtargets_tr\u001b[0m\u001b[0;34m)\u001b[0m\u001b[0;34m\u001b[0m\u001b[0;34m\u001b[0m\u001b[0m\n\u001b[1;32m     10\u001b[0m         \u001b[0mloss_epoch\u001b[0m\u001b[0;34m+=\u001b[0m \u001b[0mloss_tr\u001b[0m\u001b[0;34m\u001b[0m\u001b[0;34m\u001b[0m\u001b[0m\n",
      "\u001b[0;32m<ipython-input-3-1821120e1aa0>\u001b[0m in \u001b[0;36mCreateFeaturesFrame\u001b[0;34m(init_adj, tool_positions, stresses, n_positions, frame_to_predict)\u001b[0m\n\u001b[1;32m    162\u001b[0m     \u001b[0;32mfor\u001b[0m \u001b[0mrmv_n\u001b[0m \u001b[0;32min\u001b[0m \u001b[0moff_nodes\u001b[0m\u001b[0;34m:\u001b[0m\u001b[0;34m\u001b[0m\u001b[0;34m\u001b[0m\u001b[0m\n\u001b[1;32m    163\u001b[0m         \u001b[0mdense_adj\u001b[0m\u001b[0;34m[\u001b[0m\u001b[0mrmv_n\u001b[0m\u001b[0;34m]\u001b[0m\u001b[0;34m=\u001b[0m\u001b[0mnp\u001b[0m\u001b[0;34m.\u001b[0m\u001b[0mzeros\u001b[0m\u001b[0;34m(\u001b[0m\u001b[0madj_shape\u001b[0m\u001b[0;34m[\u001b[0m\u001b[0;36m1\u001b[0m\u001b[0;34m]\u001b[0m\u001b[0;34m,\u001b[0m\u001b[0mdtype\u001b[0m\u001b[0;34m=\u001b[0m\u001b[0mint\u001b[0m\u001b[0;34m)\u001b[0m\u001b[0;34m\u001b[0m\u001b[0;34m\u001b[0m\u001b[0m\n\u001b[0;32m--> 164\u001b[0;31m         \u001b[0mdense_adj\u001b[0m\u001b[0;34m[\u001b[0m\u001b[0;34m...\u001b[0m\u001b[0;34m,\u001b[0m\u001b[0mrmv_n\u001b[0m\u001b[0;34m]\u001b[0m\u001b[0;34m=\u001b[0m\u001b[0mnp\u001b[0m\u001b[0;34m.\u001b[0m\u001b[0mzeros\u001b[0m\u001b[0;34m(\u001b[0m\u001b[0madj_shape\u001b[0m\u001b[0;34m[\u001b[0m\u001b[0;36m0\u001b[0m\u001b[0;34m]\u001b[0m\u001b[0;34m,\u001b[0m\u001b[0mdtype\u001b[0m\u001b[0;34m=\u001b[0m\u001b[0mint\u001b[0m\u001b[0;34m)\u001b[0m\u001b[0;34m\u001b[0m\u001b[0;34m\u001b[0m\u001b[0m\n\u001b[0m\u001b[1;32m    165\u001b[0m \u001b[0;34m\u001b[0m\u001b[0m\n\u001b[1;32m    166\u001b[0m     \u001b[0msupp\u001b[0m\u001b[0;34m=\u001b[0m\u001b[0msp\u001b[0m\u001b[0;34m.\u001b[0m\u001b[0mcsr_matrix\u001b[0m\u001b[0;34m(\u001b[0m\u001b[0mdense_adj\u001b[0m\u001b[0;34m)\u001b[0m\u001b[0;34m\u001b[0m\u001b[0;34m\u001b[0m\u001b[0m\n",
      "\u001b[0;31mKeyboardInterrupt\u001b[0m: "
     ]
    }
   ],
   "source": [
    "frames_arr=[50,51,52,53,54]\n",
    "\n",
    "# Train model\n",
    "for epoch in range(200000):\n",
    "    random.shuffle(frames_arr)\n",
    "    loss_epoch=0\n",
    "    for frame_to_train in frames_arr:\n",
    "        support,inputs_tr,targets_tr=CreateFeaturesFrame(adj,tool_info,vm_data,n_positions,frame_to_train)\n",
    "        loss_tr,outs = compiled_update_step(inputs_tr, support, targets_tr)\n",
    "        loss_epoch+= loss_tr\n",
    "    if epoch%20==0:\n",
    "        loss_epoch=loss_epoch/len(frames_arr)\n",
    "        print(\"Epoch:\", '%04d' % (epoch + 1), \"train_loss=\", \"{:.5f}\".format(loss_epoch))\n"
   ]
  },
  {
   "cell_type": "code",
   "execution_count": 6,
   "metadata": {},
   "outputs": [
    {
     "name": "stdout",
     "output_type": "stream",
     "text": [
      "Epoch: 0001 train_loss= 5.25787\n"
     ]
    },
    {
     "ename": "KeyboardInterrupt",
     "evalue": "",
     "output_type": "error",
     "traceback": [
      "\u001b[0;31m---------------------------------------------------------------------------\u001b[0m",
      "\u001b[0;31mKeyboardInterrupt\u001b[0m                         Traceback (most recent call last)",
      "\u001b[0;32m<ipython-input-6-7caf616bd776>\u001b[0m in \u001b[0;36m<module>\u001b[0;34m\u001b[0m\n\u001b[1;32m      6\u001b[0m     \u001b[0mloss_epoch\u001b[0m\u001b[0;34m=\u001b[0m\u001b[0;36m0\u001b[0m\u001b[0;34m\u001b[0m\u001b[0;34m\u001b[0m\u001b[0m\n\u001b[1;32m      7\u001b[0m     \u001b[0;32mfor\u001b[0m \u001b[0mframe_to_train\u001b[0m \u001b[0;32min\u001b[0m \u001b[0mframes_arr\u001b[0m\u001b[0;34m:\u001b[0m\u001b[0;34m\u001b[0m\u001b[0;34m\u001b[0m\u001b[0m\n\u001b[0;32m----> 8\u001b[0;31m         \u001b[0msupport\u001b[0m\u001b[0;34m,\u001b[0m\u001b[0minputs_tr\u001b[0m\u001b[0;34m,\u001b[0m\u001b[0mtargets_tr\u001b[0m\u001b[0;34m=\u001b[0m\u001b[0mCreateFeaturesFrame\u001b[0m\u001b[0;34m(\u001b[0m\u001b[0madj\u001b[0m\u001b[0;34m,\u001b[0m\u001b[0mtool_info\u001b[0m\u001b[0;34m,\u001b[0m\u001b[0mvm_data\u001b[0m\u001b[0;34m,\u001b[0m\u001b[0mn_positions\u001b[0m\u001b[0;34m,\u001b[0m\u001b[0mframe_to_train\u001b[0m\u001b[0;34m)\u001b[0m\u001b[0;34m\u001b[0m\u001b[0;34m\u001b[0m\u001b[0m\n\u001b[0m\u001b[1;32m      9\u001b[0m         \u001b[0mloss_tr\u001b[0m\u001b[0;34m,\u001b[0m\u001b[0mouts\u001b[0m \u001b[0;34m=\u001b[0m \u001b[0mcompiled_update_step\u001b[0m\u001b[0;34m(\u001b[0m\u001b[0minputs_tr\u001b[0m\u001b[0;34m,\u001b[0m \u001b[0msupport\u001b[0m\u001b[0;34m,\u001b[0m \u001b[0mtargets_tr\u001b[0m\u001b[0;34m)\u001b[0m\u001b[0;34m\u001b[0m\u001b[0;34m\u001b[0m\u001b[0m\n\u001b[1;32m     10\u001b[0m         \u001b[0mloss_epoch\u001b[0m\u001b[0;34m+=\u001b[0m \u001b[0mloss_tr\u001b[0m\u001b[0;34m\u001b[0m\u001b[0;34m\u001b[0m\u001b[0m\n",
      "\u001b[0;32m<ipython-input-1-03baef9e3486>\u001b[0m in \u001b[0;36mCreateFeaturesFrame\u001b[0;34m(init_adj, tool_positions, stresses, n_positions, frame_to_predict)\u001b[0m\n\u001b[1;32m    161\u001b[0m         \u001b[0mdense_adj\u001b[0m\u001b[0;34m[\u001b[0m\u001b[0;34m...\u001b[0m\u001b[0;34m,\u001b[0m\u001b[0mrmv_n\u001b[0m\u001b[0;34m]\u001b[0m\u001b[0;34m=\u001b[0m\u001b[0mnp\u001b[0m\u001b[0;34m.\u001b[0m\u001b[0mzeros\u001b[0m\u001b[0;34m(\u001b[0m\u001b[0madj_shape\u001b[0m\u001b[0;34m[\u001b[0m\u001b[0;36m0\u001b[0m\u001b[0;34m]\u001b[0m\u001b[0;34m,\u001b[0m\u001b[0mdtype\u001b[0m\u001b[0;34m=\u001b[0m\u001b[0mint\u001b[0m\u001b[0;34m)\u001b[0m\u001b[0;34m\u001b[0m\u001b[0;34m\u001b[0m\u001b[0m\n\u001b[1;32m    162\u001b[0m \u001b[0;34m\u001b[0m\u001b[0m\n\u001b[0;32m--> 163\u001b[0;31m     \u001b[0msupp\u001b[0m\u001b[0;34m=\u001b[0m\u001b[0msp\u001b[0m\u001b[0;34m.\u001b[0m\u001b[0mcsr_matrix\u001b[0m\u001b[0;34m(\u001b[0m\u001b[0mdense_adj\u001b[0m\u001b[0;34m)\u001b[0m\u001b[0;34m\u001b[0m\u001b[0;34m\u001b[0m\u001b[0m\n\u001b[0m\u001b[1;32m    164\u001b[0m     \u001b[0msupp\u001b[0m\u001b[0;34m=\u001b[0m\u001b[0mpreprocess_adj\u001b[0m\u001b[0;34m(\u001b[0m\u001b[0msupp\u001b[0m\u001b[0;34m)\u001b[0m\u001b[0;34m\u001b[0m\u001b[0;34m\u001b[0m\u001b[0m\n\u001b[1;32m    165\u001b[0m \u001b[0;34m\u001b[0m\u001b[0m\n",
      "\u001b[0;32m~/anaconda3/envs/gcn_Sonnet/lib/python3.7/site-packages/scipy/sparse/compressed.py\u001b[0m in \u001b[0;36m__init__\u001b[0;34m(self, arg1, shape, dtype, copy)\u001b[0m\n\u001b[1;32m     86\u001b[0m                                  \"\".format(self.format))\n\u001b[1;32m     87\u001b[0m             \u001b[0;32mfrom\u001b[0m \u001b[0;34m.\u001b[0m\u001b[0mcoo\u001b[0m \u001b[0;32mimport\u001b[0m \u001b[0mcoo_matrix\u001b[0m\u001b[0;34m\u001b[0m\u001b[0;34m\u001b[0m\u001b[0m\n\u001b[0;32m---> 88\u001b[0;31m             \u001b[0mself\u001b[0m\u001b[0;34m.\u001b[0m\u001b[0m_set_self\u001b[0m\u001b[0;34m(\u001b[0m\u001b[0mself\u001b[0m\u001b[0;34m.\u001b[0m\u001b[0m__class__\u001b[0m\u001b[0;34m(\u001b[0m\u001b[0mcoo_matrix\u001b[0m\u001b[0;34m(\u001b[0m\u001b[0marg1\u001b[0m\u001b[0;34m,\u001b[0m \u001b[0mdtype\u001b[0m\u001b[0;34m=\u001b[0m\u001b[0mdtype\u001b[0m\u001b[0;34m)\u001b[0m\u001b[0;34m)\u001b[0m\u001b[0;34m)\u001b[0m\u001b[0;34m\u001b[0m\u001b[0;34m\u001b[0m\u001b[0m\n\u001b[0m\u001b[1;32m     89\u001b[0m \u001b[0;34m\u001b[0m\u001b[0m\n\u001b[1;32m     90\u001b[0m         \u001b[0;31m# Read matrix dimensions given, if any\u001b[0m\u001b[0;34m\u001b[0m\u001b[0;34m\u001b[0m\u001b[0;34m\u001b[0m\u001b[0m\n",
      "\u001b[0;32m~/anaconda3/envs/gcn_Sonnet/lib/python3.7/site-packages/scipy/sparse/coo.py\u001b[0m in \u001b[0;36m__init__\u001b[0;34m(self, arg1, shape, dtype, copy)\u001b[0m\n\u001b[1;32m    189\u001b[0m                                          (shape, self._shape))\n\u001b[1;32m    190\u001b[0m \u001b[0;34m\u001b[0m\u001b[0m\n\u001b[0;32m--> 191\u001b[0;31m                 \u001b[0mself\u001b[0m\u001b[0;34m.\u001b[0m\u001b[0mrow\u001b[0m\u001b[0;34m,\u001b[0m \u001b[0mself\u001b[0m\u001b[0;34m.\u001b[0m\u001b[0mcol\u001b[0m \u001b[0;34m=\u001b[0m \u001b[0mM\u001b[0m\u001b[0;34m.\u001b[0m\u001b[0mnonzero\u001b[0m\u001b[0;34m(\u001b[0m\u001b[0;34m)\u001b[0m\u001b[0;34m\u001b[0m\u001b[0;34m\u001b[0m\u001b[0m\n\u001b[0m\u001b[1;32m    192\u001b[0m                 \u001b[0mself\u001b[0m\u001b[0;34m.\u001b[0m\u001b[0mdata\u001b[0m \u001b[0;34m=\u001b[0m \u001b[0mM\u001b[0m\u001b[0;34m[\u001b[0m\u001b[0mself\u001b[0m\u001b[0;34m.\u001b[0m\u001b[0mrow\u001b[0m\u001b[0;34m,\u001b[0m \u001b[0mself\u001b[0m\u001b[0;34m.\u001b[0m\u001b[0mcol\u001b[0m\u001b[0;34m]\u001b[0m\u001b[0;34m\u001b[0m\u001b[0;34m\u001b[0m\u001b[0m\n\u001b[1;32m    193\u001b[0m                 \u001b[0mself\u001b[0m\u001b[0;34m.\u001b[0m\u001b[0mhas_canonical_format\u001b[0m \u001b[0;34m=\u001b[0m \u001b[0;32mTrue\u001b[0m\u001b[0;34m\u001b[0m\u001b[0;34m\u001b[0m\u001b[0m\n",
      "\u001b[0;31mKeyboardInterrupt\u001b[0m: "
     ]
    }
   ],
   "source": [
    "frames_arr=[50,51,52,53,54]\n",
    "\n",
    "# Train model\n",
    "for epoch in range(200000):\n",
    "    random.shuffle(frames_arr)\n",
    "    loss_epoch=0\n",
    "    for frame_to_train in frames_arr:\n",
    "        support,inputs_tr,targets_tr=CreateFeaturesFrame(adj,tool_info,vm_data,n_positions,frame_to_train)\n",
    "        loss_tr,outs = compiled_update_step(inputs_tr, support, targets_tr)\n",
    "        loss_epoch+= loss_tr\n",
    "    if epoch%10==0:\n",
    "        loss_epoch=loss_epoch/len(frames_arr)\n",
    "        print(\"Epoch:\", '%04d' % (epoch + 1), \"train_loss=\", \"{:.5f}\".format(loss_epoch))"
   ]
  },
  {
   "cell_type": "code",
   "execution_count": 19,
   "metadata": {},
   "outputs": [
    {
     "data": {
      "text/plain": [
       "<tf.Tensor: shape=(), dtype=float32, numpy=1.5430278>"
      ]
     },
     "execution_count": 19,
     "metadata": {},
     "output_type": "execute_result"
    }
   ],
   "source": [
    "\n",
    "bce = tf.keras.losses.BinaryCrossentropy() \n",
    "bce(real_binary, pred_binary)"
   ]
  },
  {
   "cell_type": "code",
   "execution_count": 8,
   "metadata": {},
   "outputs": [
    {
     "data": {
      "image/png": "[encoded data removed]",
      "text/plain": [
       "<Figure size 432x288 with 1 Axes>"
      ]
     },
     "metadata": {
      "needs_background": "light"
     },
     "output_type": "display_data"
    }
   ],
   "source": [
    "import matplotlib.pyplot as plt\n",
    "%matplotlib inline  \n",
    "\n",
    "delta=targets_tr-outs\n",
    "ax1 = plt.subplot(211)\n",
    "deltas_peed=delta[...,0]\n",
    "\n",
    "plt.ylim(-1,1)\n",
    "axs1=plt.plot(range(np.shape(delta)[0]), delta,'.',alpha=0.3)"
   ]
  },
  {
   "cell_type": "code",
   "execution_count": null,
   "metadata": {},
   "outputs": [],
   "source": []
  }
 ],
 "metadata": {
  "kernelspec": {
   "display_name": "gcn_Sonnet",
   "language": "python",
   "name": "gcn_sonnet"
  },
  "language_info": {
   "codemirror_mode": {
    "name": "ipython",
    "version": 3
   },
   "file_extension": ".py",
   "mimetype": "text/x-python",
   "name": "python",
   "nbconvert_exporter": "python",
   "pygments_lexer": "ipython3",
   "version": "3.7.6"
  }
 },
 "nbformat": 4,
 "nbformat_minor": 4
}
